{
 "cells": [
  {
   "cell_type": "code",
   "execution_count": 4,
   "metadata": {},
   "outputs": [],
   "source": [
    "import requests\n",
    "import os\n",
    "from typing import Any\n",
    "from decouple import config\n",
    "from langchain_groq import ChatGroq\n",
    "from langchain.agents import create_react_agent, AgentExecutor\n",
    "from langchain import hub\n",
    "from langchain.tools import BaseTool\n",
    "from typing import List, Any\n",
    "\n",
    "os.environ[\"GROQ_API_KEY\"] = config(\"GROQ_API_KEY\")"
   ]
  },
  {
   "cell_type": "code",
   "execution_count": 5,
   "metadata": {},
   "outputs": [],
   "source": [
    "class GetModel1Tool(BaseTool):\n",
    "    name: str = \"GetModel1Tool\"\n",
    "    description: str =  \"Use this to get the answer from model 1\"\n",
    "\n",
    "    def _run(self, input:int)  -> Any:\n",
    "        response = requests.get(\"http://127.0.0.1:8000/api/model1/{input}\")\n",
    "        return response.json()\n",
    "    \n",
    "    def _arun(self, input:int) -> Any:\n",
    "        raise NotImplementedError(\"This tools does not suport async\")\n",
    "\n",
    "get_model_1 = GetModel1Tool()"
   ]
  },
  {
   "cell_type": "code",
   "execution_count": null,
   "metadata": {},
   "outputs": [],
   "source": []
  }
 ],
 "metadata": {
  "kernelspec": {
   "display_name": "ai_routine",
   "language": "python",
   "name": "python3"
  },
  "language_info": {
   "codemirror_mode": {
    "name": "ipython",
    "version": 3
   },
   "file_extension": ".py",
   "mimetype": "text/x-python",
   "name": "python",
   "nbconvert_exporter": "python",
   "pygments_lexer": "ipython3",
   "version": "3.11.6"
  }
 },
 "nbformat": 4,
 "nbformat_minor": 2
}
